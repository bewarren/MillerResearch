{
 "cells": [
  {
   "cell_type": "markdown",
   "metadata": {},
   "source": [
    "# Keras Notebook\n",
    "\n",
    "This notebook uses different Convolutional Neural Networks to distinguish between signal and background processes --  ZvvHbb images (signal) and JZ0W images (background). \n",
    "\n",
    "In order to do this, we must first convert our data into a convenient format that allows us to load it into a CNN using the Keras API. We also need to make sure that the images are compatible with the DNNDK. The DNNDK requiresthat we have our images saved as JPEG images, so we need to convert our images accordingly from (26,32,1) to (26, 32, 3). \n",
    "\n",
    "Then it is a matter of using a convenient CNN model to classify the images. We also look at procedures like normalization to make our training even better as well a s features of the network that are important like Batch Normalization."
   ]
  },
  {
   "cell_type": "code",
   "execution_count": 1,
   "metadata": {
    "colab": {},
    "colab_type": "code",
    "id": "l9QAXctTKizH"
   },
   "outputs": [
    {
     "name": "stderr",
     "output_type": "stream",
     "text": [
      "Using TensorFlow backend.\n"
     ]
    }
   ],
   "source": [
    "import numpy as np\n",
    "import pandas as pd \n",
    "import h5py\n",
    "import convert_data\n",
    "import keras\n",
    "\n",
    "import matplotlib.pyplot as plt\n",
    "from matplotlib import colors\n",
    "import matplotlib\n",
    "\n",
    "from sklearn.utils import shuffle\n",
    "\n",
    "from keras.models import Sequential, load_model\n",
    "from keras.layers import Dense, Dropout, Flatten, Activation\n",
    "from keras.layers import Conv2D, MaxPooling2D, BatchNormalization\n",
    "from keras.optimizers import Adam,SGD,Adagrad,Adadelta,RMSprop\n",
    "from keras.preprocessing.image import ImageDataGenerator\n",
    "from keras.callbacks import ReduceLROnPlateau, LearningRateScheduler\n",
    "from keras.utils import to_categorical\n",
    "\n",
    "from sklearn.model_selection import train_test_split\n",
    "from sklearn import preprocessing\n",
    "\n",
    "np.random.seed(7)"
   ]
  },
  {
   "cell_type": "code",
   "execution_count": 2,
   "metadata": {
    "colab": {},
    "colab_type": "code",
    "id": "OprAOpQPKizj"
   },
   "outputs": [],
   "source": [
    "#This loads all of our data and gives us our images and labels in the format we need\n",
    "\n",
    "images, labels = convert_data.images_and_labels()\n",
    "labels = keras.utils.to_categorical(labels, num_classes=2) #changing to one hot encoding\n",
    "\n",
    "x_tr, x_val, y_tr, y_val = train_test_split(images, labels, test_size=0.5, random_state=42)\n",
    "x_val, x_te, y_val, y_te = train_test_split(x_val, y_val, test_size=0.1, random_state=42)\n",
    "\n",
    "\n",
    "#This saves our numpy data into JPEG images\n",
    "\n",
    "x_tr = x_tr.reshape(-1, 26, 32)\n",
    "for i, train_image in enumerate(x_tr):\n",
    "    matplotlib.image.imsave('train_images/' + str(i) + '_train.jpeg',train_image)\n",
    "\n",
    "x_val = x_val.reshape(-1, 26, 32)\n",
    "for j, val_image in enumerate(x_val):\n",
    "    matplotlib.image.imsave('val_images/' + str(j) + '_val.jpeg',val_image)\n",
    "    \n",
    "x_te = x_te.reshape(-1, 26, 32)    \n",
    "for k, test_image in enumerate(x_te):\n",
    "    matplotlib.image.imsave('test_images/' + str(k) + '_test.jpeg',test_image)\n",
    "\n"
   ]
  },
  {
   "cell_type": "markdown",
   "metadata": {},
   "source": [
    "The below code converts our image data into RGB data instead of just single intensity values"
   ]
  },
  {
   "cell_type": "code",
   "execution_count": 3,
   "metadata": {},
   "outputs": [
    {
     "name": "stdout",
     "output_type": "stream",
     "text": [
      "(1000, 26, 32, 3)\n",
      "(900, 26, 32, 3)\n",
      "(100, 26, 32, 3)\n"
     ]
    }
   ],
   "source": [
    "from PIL import Image\n",
    "x_tr = []\n",
    "for i in range(1000):\n",
    "    im = Image.open('train_images/'+ str(i) + '_train.jpeg')\n",
    "    val = list(np.asarray(im))\n",
    "    x_tr.append(val)\n",
    "\n",
    "x_tr = np.array(x_tr)\n",
    "print(x_tr.shape)\n",
    "\n",
    "x_val = []\n",
    "for j in range(900):\n",
    "    im = Image.open('val_images/'+ str(j) + '_val.jpeg')\n",
    "    val = list(np.asarray(im))\n",
    "    x_val.append(val)\n",
    "\n",
    "x_val = np.array(x_val)\n",
    "print(x_val.shape)\n",
    "\n",
    "x_te = []\n",
    "for k in range(100):\n",
    "    im = Image.open('test_images/'+ str(k) + '_test.jpeg')\n",
    "    val = list(np.asarray(im))\n",
    "    x_te.append(val)\n",
    "\n",
    "x_te = np.array(x_te)\n",
    "print(x_te.shape)"
   ]
  },
  {
   "cell_type": "markdown",
   "metadata": {},
   "source": [
    "# Model Creation\n",
    "\n",
    "Here we define various different models for training to see what is the most efficient.\n",
    "\n",
    "We first have a single 2D Convolutional Neural Network (Which includes a Batch Normalization layer, a Flattening layer, and an output layer). Then we have two Conv2D layers, a single Conv2D layer and a MaxPool layer, and finally two Conv2D layers and two MaxPool layers.\n",
    "\n",
    "The output we use for all of our outputs is softmax -- so a single value of 1 or 0"
   ]
  },
  {
   "cell_type": "code",
   "execution_count": 4,
   "metadata": {
    "colab": {
     "base_uri": "https://localhost:8080/",
     "height": 139
    },
    "colab_type": "code",
    "id": "l-FB5NkPKi0Q",
    "outputId": "b8009c0e-bc11-47d9-e2e8-3ad288c8135f"
   },
   "outputs": [
    {
     "name": "stdout",
     "output_type": "stream",
     "text": [
      "_________________________________________________________________\n",
      "Layer (type)                 Output Shape              Param #   \n",
      "=================================================================\n",
      "conv2d_1 (Conv2D)            (None, 26, 32, 32)        896       \n",
      "_________________________________________________________________\n",
      "batch_normalization_1 (Batch (None, 26, 32, 32)        128       \n",
      "_________________________________________________________________\n",
      "flatten_1 (Flatten)          (None, 26624)             0         \n",
      "_________________________________________________________________\n",
      "dense_1 (Dense)              (None, 2)                 53250     \n",
      "=================================================================\n",
      "Total params: 54,274\n",
      "Trainable params: 54,210\n",
      "Non-trainable params: 64\n",
      "_________________________________________________________________\n"
     ]
    }
   ],
   "source": [
    "def model_one_conv_layer():\n",
    "    model = Sequential()\n",
    "    model.add(Conv2D(filters=32, kernel_size=(3, 3), activation='relu', strides=1, padding='same', data_format='channels_last', input_shape=(26,32,3)))\n",
    "    model.add(BatchNormalization())\n",
    "    model.add(Flatten())\n",
    "    model.add(Dense(2, activation='softmax'))\n",
    "\n",
    "    optimizer = Adam(lr=0.001, beta_1=0.9, beta_2=0.999 )\n",
    "    model.compile(optimizer=optimizer, loss=\"binary_crossentropy\", metrics=[\"accuracy\"])\n",
    "    \n",
    "    return model\n",
    "\n",
    "model_1c = model_one_conv_layer()\n",
    "model_1c.summary()"
   ]
  },
  {
   "cell_type": "code",
   "execution_count": 5,
   "metadata": {},
   "outputs": [
    {
     "name": "stdout",
     "output_type": "stream",
     "text": [
      "_________________________________________________________________\n",
      "Layer (type)                 Output Shape              Param #   \n",
      "=================================================================\n",
      "conv2d_2 (Conv2D)            (None, 26, 32, 32)        896       \n",
      "_________________________________________________________________\n",
      "conv2d_3 (Conv2D)            (None, 26, 32, 32)        9248      \n",
      "_________________________________________________________________\n",
      "batch_normalization_2 (Batch (None, 26, 32, 32)        128       \n",
      "_________________________________________________________________\n",
      "flatten_2 (Flatten)          (None, 26624)             0         \n",
      "_________________________________________________________________\n",
      "dense_2 (Dense)              (None, 2)                 53250     \n",
      "=================================================================\n",
      "Total params: 63,522\n",
      "Trainable params: 63,458\n",
      "Non-trainable params: 64\n",
      "_________________________________________________________________\n"
     ]
    }
   ],
   "source": [
    "def model_two_conv_layer():\n",
    "    model = Sequential()\n",
    "    model.add(Conv2D(filters=32, kernel_size=(3, 3), activation='relu', strides=1, padding='same', data_format='channels_last', input_shape=(26,32,3)))\n",
    "    model.add(Conv2D(filters=32, kernel_size=(3, 3), activation='relu', strides=1, padding='same', data_format='channels_last'))\n",
    "    model.add(BatchNormalization())\n",
    "    model.add(Flatten())\n",
    "    model.add(Dense(2, activation='softmax'))\n",
    "\n",
    "    optimizer = Adam(lr=0.001, beta_1=0.9, beta_2=0.999 )\n",
    "    model.compile(optimizer=optimizer, loss=\"binary_crossentropy\", metrics=[\"accuracy\"])\n",
    "    \n",
    "    return model\n",
    "\n",
    "model_2c = model_two_conv_layer()\n",
    "model_2c.summary()"
   ]
  },
  {
   "cell_type": "code",
   "execution_count": 6,
   "metadata": {},
   "outputs": [
    {
     "name": "stdout",
     "output_type": "stream",
     "text": [
      "_________________________________________________________________\n",
      "Layer (type)                 Output Shape              Param #   \n",
      "=================================================================\n",
      "conv2d_4 (Conv2D)            (None, 26, 32, 32)        896       \n",
      "_________________________________________________________________\n",
      "max_pooling2d_1 (MaxPooling2 (None, 13, 16, 32)        0         \n",
      "_________________________________________________________________\n",
      "batch_normalization_3 (Batch (None, 13, 16, 32)        128       \n",
      "_________________________________________________________________\n",
      "flatten_3 (Flatten)          (None, 6656)              0         \n",
      "_________________________________________________________________\n",
      "dense_3 (Dense)              (None, 2)                 13314     \n",
      "=================================================================\n",
      "Total params: 14,338\n",
      "Trainable params: 14,274\n",
      "Non-trainable params: 64\n",
      "_________________________________________________________________\n"
     ]
    }
   ],
   "source": [
    "def model_one_conv_one_max():\n",
    "    model = Sequential()\n",
    "    model.add(Conv2D(filters=32, kernel_size=(3, 3), activation='relu', strides=1, padding='same', data_format='channels_last', input_shape=(26,32,3)))\n",
    "    model.add(MaxPooling2D(pool_size=(2, 2), strides=2, padding='valid' ))\n",
    "    model.add(BatchNormalization())\n",
    "    model.add(Flatten())\n",
    "    model.add(Dense(2, activation='softmax'))\n",
    "\n",
    "    optimizer = Adam(lr=0.001, beta_1=0.9, beta_2=0.999 )\n",
    "    model.compile(optimizer=optimizer, loss=\"binary_crossentropy\", metrics=[\"accuracy\"])\n",
    "    \n",
    "    return model\n",
    "\n",
    "model_1c1m = model_one_conv_one_max()\n",
    "model_1c1m.summary()"
   ]
  },
  {
   "cell_type": "code",
   "execution_count": 7,
   "metadata": {},
   "outputs": [
    {
     "name": "stdout",
     "output_type": "stream",
     "text": [
      "_________________________________________________________________\n",
      "Layer (type)                 Output Shape              Param #   \n",
      "=================================================================\n",
      "conv2d_5 (Conv2D)            (None, 26, 32, 32)        896       \n",
      "_________________________________________________________________\n",
      "max_pooling2d_2 (MaxPooling2 (None, 13, 16, 32)        0         \n",
      "_________________________________________________________________\n",
      "conv2d_6 (Conv2D)            (None, 13, 16, 32)        9248      \n",
      "_________________________________________________________________\n",
      "max_pooling2d_3 (MaxPooling2 (None, 6, 8, 32)          0         \n",
      "_________________________________________________________________\n",
      "batch_normalization_4 (Batch (None, 6, 8, 32)          128       \n",
      "_________________________________________________________________\n",
      "flatten_4 (Flatten)          (None, 1536)              0         \n",
      "_________________________________________________________________\n",
      "dense_4 (Dense)              (None, 2)                 3074      \n",
      "=================================================================\n",
      "Total params: 13,346\n",
      "Trainable params: 13,282\n",
      "Non-trainable params: 64\n",
      "_________________________________________________________________\n"
     ]
    }
   ],
   "source": [
    "def model_two_conv_two_max():\n",
    "    model = Sequential()\n",
    "    model.add(Conv2D(filters=32, kernel_size=(3, 3), activation='relu', strides=1, padding='same', data_format='channels_last', input_shape=(26,32,3)))\n",
    "    model.add(MaxPooling2D(pool_size=(2, 2), strides=2, padding='valid' ))\n",
    "    model.add(Conv2D(filters=32, kernel_size=(3, 3), activation='relu', strides=1, padding='same', data_format='channels_last'))\n",
    "    model.add(MaxPooling2D(pool_size=(2, 2), strides=2, padding='valid' ))\n",
    "    model.add(BatchNormalization())\n",
    "    model.add(Flatten())\n",
    "    model.add(Dense(2, activation='softmax'))\n",
    "\n",
    "    model.compile(optimizer=\"rmsprop\", loss=\"binary_crossentropy\", metrics=[\"accuracy\"])\n",
    "    \n",
    "    return model\n",
    "\n",
    "model_2c2m = model_two_conv_two_max()\n",
    "model_2c2m.summary()"
   ]
  },
  {
   "cell_type": "code",
   "execution_count": 8,
   "metadata": {},
   "outputs": [],
   "source": [
    "reduce_lr = LearningRateScheduler(lambda x: 1e-2 * 0.7 ** x)\n",
    "batch_size = 32\n",
    "epochs = 50"
   ]
  },
  {
   "cell_type": "code",
   "execution_count": 9,
   "metadata": {
    "colab": {
     "base_uri": "https://localhost:8080/",
     "height": 816
    },
    "colab_type": "code",
    "id": "dCByHNgtKi0R",
    "outputId": "e727d805-f99a-4be8-898c-a282e905e7a6"
   },
   "outputs": [],
   "source": [
    "history_1c = model_1c.fit(x_tr, y_tr, validation_data = (x_val, y_val) ,epochs = epochs, verbose=0, callbacks = [reduce_lr], batch_size = batch_size)"
   ]
  },
  {
   "cell_type": "code",
   "execution_count": 10,
   "metadata": {},
   "outputs": [],
   "source": [
    "history_2c = model_2c.fit(x_tr, y_tr, validation_data = (x_val, y_val) ,epochs = epochs, verbose=0, callbacks = [reduce_lr], batch_size = batch_size)"
   ]
  },
  {
   "cell_type": "code",
   "execution_count": 11,
   "metadata": {},
   "outputs": [],
   "source": [
    "history_1c1m = model_1c1m.fit(x_tr, y_tr, validation_data = (x_val, y_val) ,epochs = epochs, verbose=0, callbacks = [reduce_lr], batch_size = batch_size)"
   ]
  },
  {
   "cell_type": "code",
   "execution_count": 12,
   "metadata": {},
   "outputs": [
    {
     "name": "stdout",
     "output_type": "stream",
     "text": [
      "Train on 1000 samples, validate on 900 samples\n",
      "Epoch 1/50\n",
      " - 2s - loss: 1.7646 - acc: 0.7200 - val_loss: 3.4618 - val_acc: 0.7356\n",
      "Epoch 2/50\n",
      " - 1s - loss: 1.0702 - acc: 0.7810 - val_loss: 2.2563 - val_acc: 0.5022\n",
      "Epoch 3/50\n",
      " - 1s - loss: 0.5630 - acc: 0.7980 - val_loss: 0.8861 - val_acc: 0.6700\n",
      "Epoch 4/50\n",
      " - 1s - loss: 0.4886 - acc: 0.7990 - val_loss: 1.3003 - val_acc: 0.5233\n",
      "Epoch 5/50\n",
      " - 1s - loss: 0.4128 - acc: 0.8340 - val_loss: 0.6048 - val_acc: 0.6900\n",
      "Epoch 6/50\n",
      " - 1s - loss: 0.3732 - acc: 0.8410 - val_loss: 2.8722 - val_acc: 0.5022\n",
      "Epoch 7/50\n",
      " - 1s - loss: 0.3473 - acc: 0.8580 - val_loss: 0.4205 - val_acc: 0.7822\n",
      "Epoch 8/50\n",
      " - 1s - loss: 0.3134 - acc: 0.8720 - val_loss: 0.7544 - val_acc: 0.6056\n",
      "Epoch 9/50\n",
      " - 1s - loss: 0.3026 - acc: 0.8710 - val_loss: 1.5959 - val_acc: 0.5022\n",
      "Epoch 10/50\n",
      " - 1s - loss: 0.2990 - acc: 0.8870 - val_loss: 0.6104 - val_acc: 0.6656\n",
      "Epoch 11/50\n",
      " - 1s - loss: 0.2804 - acc: 0.8870 - val_loss: 0.4984 - val_acc: 0.7300\n",
      "Epoch 12/50\n",
      " - 1s - loss: 0.2743 - acc: 0.8820 - val_loss: 0.5778 - val_acc: 0.6822\n",
      "Epoch 13/50\n",
      " - 1s - loss: 0.2663 - acc: 0.8950 - val_loss: 0.4219 - val_acc: 0.7856\n",
      "Epoch 14/50\n",
      " - 1s - loss: 0.2632 - acc: 0.9020 - val_loss: 0.3733 - val_acc: 0.8267\n",
      "Epoch 15/50\n",
      " - 1s - loss: 0.2590 - acc: 0.9040 - val_loss: 0.3704 - val_acc: 0.8311\n",
      "Epoch 16/50\n",
      " - 1s - loss: 0.2512 - acc: 0.9030 - val_loss: 0.3512 - val_acc: 0.8522\n",
      "Epoch 17/50\n",
      " - 1s - loss: 0.2607 - acc: 0.9000 - val_loss: 0.3553 - val_acc: 0.8456\n",
      "Epoch 18/50\n",
      " - 1s - loss: 0.2614 - acc: 0.9090 - val_loss: 0.3494 - val_acc: 0.8544\n",
      "Epoch 19/50\n",
      " - 1s - loss: 0.2559 - acc: 0.9050 - val_loss: 0.3489 - val_acc: 0.8556\n",
      "Epoch 20/50\n",
      " - 1s - loss: 0.2594 - acc: 0.9030 - val_loss: 0.3495 - val_acc: 0.8556\n",
      "Epoch 21/50\n",
      " - 1s - loss: 0.2604 - acc: 0.8970 - val_loss: 0.3494 - val_acc: 0.8544\n",
      "Epoch 22/50\n",
      " - 1s - loss: 0.2550 - acc: 0.9020 - val_loss: 0.3485 - val_acc: 0.8567\n",
      "Epoch 23/50\n",
      " - 1s - loss: 0.2566 - acc: 0.9020 - val_loss: 0.3485 - val_acc: 0.8533\n",
      "Epoch 24/50\n",
      " - 1s - loss: 0.2556 - acc: 0.9010 - val_loss: 0.3484 - val_acc: 0.8522\n",
      "Epoch 25/50\n",
      " - 1s - loss: 0.2648 - acc: 0.8930 - val_loss: 0.3485 - val_acc: 0.8511\n",
      "Epoch 26/50\n",
      " - 1s - loss: 0.2490 - acc: 0.9090 - val_loss: 0.3485 - val_acc: 0.8511\n",
      "Epoch 27/50\n",
      " - 1s - loss: 0.2605 - acc: 0.8930 - val_loss: 0.3486 - val_acc: 0.8522\n",
      "Epoch 28/50\n",
      " - 1s - loss: 0.2472 - acc: 0.9100 - val_loss: 0.3487 - val_acc: 0.8544\n",
      "Epoch 29/50\n",
      " - 1s - loss: 0.2488 - acc: 0.9130 - val_loss: 0.3487 - val_acc: 0.8544\n",
      "Epoch 30/50\n",
      " - 1s - loss: 0.2506 - acc: 0.9050 - val_loss: 0.3488 - val_acc: 0.8556\n",
      "Epoch 31/50\n",
      " - 1s - loss: 0.2527 - acc: 0.9030 - val_loss: 0.3489 - val_acc: 0.8556\n",
      "Epoch 32/50\n",
      " - 1s - loss: 0.2552 - acc: 0.9020 - val_loss: 0.3489 - val_acc: 0.8556\n",
      "Epoch 33/50\n",
      " - 1s - loss: 0.2547 - acc: 0.8940 - val_loss: 0.3488 - val_acc: 0.8556\n",
      "Epoch 34/50\n",
      " - 1s - loss: 0.2562 - acc: 0.9030 - val_loss: 0.3488 - val_acc: 0.8556\n",
      "Epoch 35/50\n",
      " - 1s - loss: 0.2515 - acc: 0.9090 - val_loss: 0.3488 - val_acc: 0.8556\n",
      "Epoch 36/50\n",
      " - 1s - loss: 0.2543 - acc: 0.9070 - val_loss: 0.3489 - val_acc: 0.8556\n",
      "Epoch 37/50\n",
      " - 1s - loss: 0.2534 - acc: 0.8980 - val_loss: 0.3489 - val_acc: 0.8556\n",
      "Epoch 38/50\n",
      " - 1s - loss: 0.2578 - acc: 0.8970 - val_loss: 0.3489 - val_acc: 0.8556\n",
      "Epoch 39/50\n",
      " - 1s - loss: 0.2539 - acc: 0.9030 - val_loss: 0.3491 - val_acc: 0.8556\n",
      "Epoch 40/50\n",
      " - 1s - loss: 0.2562 - acc: 0.9150 - val_loss: 0.3490 - val_acc: 0.8556\n",
      "Epoch 41/50\n",
      " - 1s - loss: 0.2551 - acc: 0.9060 - val_loss: 0.3491 - val_acc: 0.8556\n",
      "Epoch 42/50\n",
      " - 1s - loss: 0.2582 - acc: 0.9020 - val_loss: 0.3490 - val_acc: 0.8556\n",
      "Epoch 43/50\n",
      " - 1s - loss: 0.2566 - acc: 0.9060 - val_loss: 0.3490 - val_acc: 0.8556\n",
      "Epoch 44/50\n",
      " - 1s - loss: 0.2550 - acc: 0.9020 - val_loss: 0.3490 - val_acc: 0.8556\n",
      "Epoch 45/50\n",
      " - 1s - loss: 0.2549 - acc: 0.9050 - val_loss: 0.3488 - val_acc: 0.8556\n",
      "Epoch 46/50\n",
      " - 1s - loss: 0.2490 - acc: 0.9100 - val_loss: 0.3489 - val_acc: 0.8556\n",
      "Epoch 47/50\n",
      " - 1s - loss: 0.2558 - acc: 0.9040 - val_loss: 0.3489 - val_acc: 0.8556\n",
      "Epoch 48/50\n",
      " - 1s - loss: 0.2495 - acc: 0.9050 - val_loss: 0.3490 - val_acc: 0.8556\n",
      "Epoch 49/50\n",
      " - 1s - loss: 0.2518 - acc: 0.9080 - val_loss: 0.3489 - val_acc: 0.8556\n",
      "Epoch 50/50\n",
      " - 1s - loss: 0.2567 - acc: 0.8980 - val_loss: 0.3490 - val_acc: 0.8556\n"
     ]
    }
   ],
   "source": [
    "history_2c2m = model_2c2m.fit(x_tr, y_tr, validation_data = (x_val, y_val) ,epochs = epochs, verbose=2, callbacks = [reduce_lr], batch_size = batch_size)"
   ]
  },
  {
   "cell_type": "markdown",
   "metadata": {},
   "source": [
    "## Baseline error\n",
    "\n",
    "This is an indication of how accurate our model is on data it hasn't seen. The best performing was the 2c2m model as can be seen in the bar graph below -- Lower Errors means it identifies a smaller percentage of images incorrectly."
   ]
  },
  {
   "cell_type": "code",
   "execution_count": 13,
   "metadata": {},
   "outputs": [
    {
     "name": "stdout",
     "output_type": "stream",
     "text": [
      "Baseline Error 1C:   12.00%\n",
      "Baseline Error 2C:   60.00%\n",
      "Baseline Error 1C1M: 12.00%\n",
      "Baseline Error 2C2M: 11.00%\n"
     ]
    },
    {
     "data": {
      "image/png": "[encoded data removed]",
      "text/plain": [
       "<Figure size 432x288 with 1 Axes>"
      ]
     },
     "metadata": {
      "needs_background": "light"
     },
     "output_type": "display_data"
    }
   ],
   "source": [
    "scores_1c   = model_1c.evaluate(x_te, y_te, verbose=0)\n",
    "scores_2c   = model_2c.evaluate(x_te, y_te, verbose=0)\n",
    "scores_1c1m = model_1c1m.evaluate(x_te, y_te, verbose=0)\n",
    "scores_2c2m = model_2c2m.evaluate(x_te, y_te, verbose=0)\n",
    "\n",
    "print(\"Baseline Error 1C:   %.2f%%\" % (100-scores_1c[1]*100))\n",
    "print(\"Baseline Error 2C:   %.2f%%\" % (100-scores_2c[1]*100))\n",
    "print(\"Baseline Error 1C1M: %.2f%%\" % (100-scores_1c1m[1]*100))\n",
    "print(\"Baseline Error 2C2M: %.2f%%\" % (100-scores_2c2m[1]*100))\n",
    "\n",
    "x = [0,1,2,3]\n",
    "plt.bar(x , [100-scores_1c[1]*100, 100-scores_2c[1]*100, 100-scores_1c1m[1]*100, 100-scores_2c2m[1]*100], width=0.8)\n",
    "plt.xticks(x, ('1c', '2c', '1c1m', '2c2m'))\n",
    "\n",
    "plt.title('Baseline Error')\n",
    "plt.ylabel('Error Percentage')\n",
    "plt.xlabel('Model')\n",
    "\n",
    "plt.show()"
   ]
  },
  {
   "cell_type": "markdown",
   "metadata": {},
   "source": [
    "## Model Accuracy\n",
    "\n",
    "Here we are just looking at the progression of the accuracy of our different models as the epochs progress. \n",
    "\n",
    "We can see that the model with 2 convolutional layers and 2 max pooling layers performs the best."
   ]
  },
  {
   "cell_type": "code",
   "execution_count": 14,
   "metadata": {},
   "outputs": [
    {
     "data": {
      "image/png": "[encoded data removed]",
      "text/plain": [
       "<Figure size 432x288 with 1 Axes>"
      ]
     },
     "metadata": {
      "needs_background": "light"
     },
     "output_type": "display_data"
    }
   ],
   "source": [
    "plt.plot(history_1c.history['acc'])\n",
    "plt.plot(history_2c.history['acc'])\n",
    "plt.plot(history_1c1m.history['acc'])\n",
    "plt.plot(history_2c2m.history['acc'])\n",
    "\n",
    "plt.title('model accuracy')\n",
    "plt.ylabel('accuracy')\n",
    "plt.xlabel('epoch')\n",
    "plt.legend(['train 1c', \n",
    "            'train 2c', \n",
    "            'train 1c1m',\n",
    "            'train 2c2m',]\n",
    "           , loc='lower right')\n",
    "plt.show()"
   ]
  },
  {
   "cell_type": "markdown",
   "metadata": {},
   "source": [
    "## Model Loss\n",
    "\n",
    "This is the loss of our models on the training data as the epochs progress \n"
   ]
  },
  {
   "cell_type": "code",
   "execution_count": 15,
   "metadata": {},
   "outputs": [
    {
     "data": {
      "image/png": "[encoded data removed]",
      "text/plain": [
       "<Figure size 432x288 with 1 Axes>"
      ]
     },
     "metadata": {
      "needs_background": "light"
     },
     "output_type": "display_data"
    }
   ],
   "source": [
    "# summarize history for loss\n",
    "\n",
    "plt.plot(history_1c.history['loss'])\n",
    "plt.plot(history_2c.history['loss'])\n",
    "plt.plot(history_1c1m.history['loss'])\n",
    "plt.plot(history_2c2m.history['loss'])\n",
    "\n",
    "plt.title('model loss')\n",
    "plt.ylabel('loss')\n",
    "plt.xlabel('epoch')\n",
    "plt.legend(['train 1c',\n",
    "            'train 2c',\n",
    "            'train 1c1m',\n",
    "            'train 2c2m'], loc='upper right')\n",
    "plt.show()"
   ]
  },
  {
   "cell_type": "markdown",
   "metadata": {},
   "source": [
    "## Best performing model\n",
    "\n",
    "In terms of both accuracy and loss, our 2c2m model works the best. Now, we must plot the training and validation values together to see if our model is overfitting.\n",
    "\n",
    "We can see by the slight disagreement that there is infact overfitting. So we need to modify our dataset such that we can reduce the overfitting of our model."
   ]
  },
  {
   "cell_type": "code",
   "execution_count": 16,
   "metadata": {},
   "outputs": [
    {
     "data": {
      "image/png": "[encoded data removed]",
      "text/plain": [
       "<Figure size 432x288 with 1 Axes>"
      ]
     },
     "metadata": {
      "needs_background": "light"
     },
     "output_type": "display_data"
    },
    {
     "data": {
      "image/png": "[encoded data removed]",
      "text/plain": [
       "<Figure size 432x288 with 1 Axes>"
      ]
     },
     "metadata": {
      "needs_background": "light"
     },
     "output_type": "display_data"
    }
   ],
   "source": [
    "plt.plot(history_2c2m.history['acc'])\n",
    "plt.plot(history_2c2m.history['val_acc'])\n",
    "\n",
    "plt.title('model accuracy')\n",
    "plt.ylabel('accuracy')\n",
    "plt.xlabel('epoch')\n",
    "plt.legend(['training',\n",
    "            'validation'], loc='lower right')\n",
    "\n",
    "plt.show()\n",
    "\n",
    "plt.plot(history_2c2m.history['loss'])\n",
    "plt.plot(history_2c2m.history['val_loss'])\n",
    "\n",
    "plt.title('model loss')\n",
    "plt.ylabel('accuracy')\n",
    "plt.xlabel('epoch')\n",
    "plt.legend(['training',\n",
    "            'validation'], loc='upper right')\n",
    "\n",
    "plt.show()"
   ]
  },
  {
   "cell_type": "markdown",
   "metadata": {},
   "source": [
    "# Normalization\n",
    "\n",
    "We try normalizing by the max value of the RGB pixel value but this gives us no change in the valiudation accuracy or loss, so we will have to find another way to address overfitting"
   ]
  },
  {
   "cell_type": "code",
   "execution_count": 17,
   "metadata": {},
   "outputs": [],
   "source": [
    "x_tr_norm = x_tr/255.\n",
    "x_val_norm = x_val/255."
   ]
  },
  {
   "cell_type": "code",
   "execution_count": 18,
   "metadata": {},
   "outputs": [],
   "source": [
    "model_2c2m_norm = model_two_conv_two_max()\n",
    "history_2c2m_norm = model_2c2m_norm.fit(x_tr_norm, y_tr, validation_data = (x_val_norm, y_val) ,epochs = epochs, verbose=0, callbacks = [reduce_lr], batch_size = batch_size)"
   ]
  },
  {
   "cell_type": "code",
   "execution_count": 19,
   "metadata": {},
   "outputs": [
    {
     "data": {
      "image/png": "[encoded data removed]",
      "text/plain": [
       "<Figure size 432x288 with 1 Axes>"
      ]
     },
     "metadata": {
      "needs_background": "light"
     },
     "output_type": "display_data"
    },
    {
     "data": {
      "image/png": "[encoded data removed]",
      "text/plain": [
       "<Figure size 432x288 with 1 Axes>"
      ]
     },
     "metadata": {
      "needs_background": "light"
     },
     "output_type": "display_data"
    }
   ],
   "source": [
    "plt.plot(history_2c2m.history['acc'])\n",
    "plt.plot(history_2c2m_norm.history['acc'])\n",
    "\n",
    "plt.plot(history_2c2m.history['val_acc'])\n",
    "plt.plot(history_2c2m_norm.history['val_acc'])\n",
    "\n",
    "plt.title('model accuracy')\n",
    "plt.ylabel('accuracy')\n",
    "plt.xlabel('epoch')\n",
    "plt.legend(['training',\n",
    "            'training norm',\n",
    "            'validation',\n",
    "            'valudation norm'], loc='lower right')\n",
    "\n",
    "plt.show()\n",
    "\n",
    "plt.plot(history_2c2m.history['loss'])\n",
    "plt.plot(history_2c2m_norm.history['loss'])\n",
    "\n",
    "plt.plot(history_2c2m.history['val_loss'])\n",
    "plt.plot(history_2c2m_norm.history['val_loss'])\n",
    "\n",
    "plt.title('model loss')\n",
    "plt.ylabel('loss')\n",
    "plt.xlabel('epoch')\n",
    "plt.legend(['training',\n",
    "            'training norm',\n",
    "            'validation',\n",
    "            'valudation norm'], loc='upper right')\n",
    "\n",
    "plt.show()"
   ]
  },
  {
   "cell_type": "markdown",
   "metadata": {},
   "source": [
    "# Batch Normalization\n",
    "\n",
    "Batch Normalization proves to be a very important layer in this model. Without it our model fails horrendously -- it gives us accuracy as good as randomly selecting.\n",
    "\n",
    "Below we can see how it compares with our regular model.\n",
    "\n",
    "Batch Normalization works because it reduces the amount by which the hidden unit values shift around and it allows each layer of a network to learn somewhat more independently of other layers"
   ]
  },
  {
   "cell_type": "code",
   "execution_count": 20,
   "metadata": {},
   "outputs": [],
   "source": [
    "def model_two_conv_two_max_no_batch_norm():\n",
    "    model = Sequential()\n",
    "    model.add(Conv2D(filters=32, kernel_size=(3, 3), activation='relu', strides=1, padding='same', data_format='channels_last', input_shape=(26,32,3)))\n",
    "    model.add(MaxPooling2D(pool_size=(2, 2), strides=2, padding='valid' ))\n",
    "    model.add(Conv2D(filters=32, kernel_size=(3, 3), activation='relu', strides=1, padding='same', data_format='channels_last'))\n",
    "    model.add(MaxPooling2D(pool_size=(2, 2), strides=2, padding='valid' ))\n",
    "    # model.add(BatchNormalization())\n",
    "    model.add(Flatten())\n",
    "    model.add(Dense(2, activation='softmax'))\n",
    "\n",
    "    model.compile(optimizer=\"rmsprop\", loss=\"binary_crossentropy\", metrics=[\"accuracy\"])\n",
    "    \n",
    "    return model\n",
    "\n",
    "model_2c2m_no_bn = model_two_conv_two_max_no_batch_norm()\n",
    "\n",
    "history_2c2m_no_bn = model_2c2m_no_bn.fit(x_tr, y_tr, validation_data = (x_val, y_val) ,epochs = epochs, verbose=0, callbacks = [reduce_lr], batch_size = batch_size)\n"
   ]
  },
  {
   "cell_type": "code",
   "execution_count": 21,
   "metadata": {},
   "outputs": [
    {
     "data": {
      "image/png": "[encoded data removed]",
      "text/plain": [
       "<Figure size 432x288 with 1 Axes>"
      ]
     },
     "metadata": {
      "needs_background": "light"
     },
     "output_type": "display_data"
    }
   ],
   "source": [
    "plt.plot(history_2c2m.history['acc'])\n",
    "plt.plot(history_2c2m_no_bn.history['acc'])\n",
    "\n",
    "plt.title('model accuracy')\n",
    "plt.ylabel('accuracy')\n",
    "plt.xlabel('epoch')\n",
    "plt.legend(['with BN',\n",
    "            'without BN'], loc='lower right')\n",
    "\n",
    "plt.show()"
   ]
  },
  {
   "cell_type": "markdown",
   "metadata": {},
   "source": [
    "# Improvements to Model\n",
    "\n",
    "Since we see that Batch Normalization is such an important layer, this begs the question why not add it in at a different point? And since it helps layers learn independently, why not try put it after our first Con2D layer and MaxPool2D layer?\n",
    "\n",
    "Also, in order to counteract overfitting, we can try adding 2 dropout layers after of the Conv2D and MaxPool2D layers in order to add some noise to our layers when they are learning -- allowing them to pick up on features more accurately\n"
   ]
  },
  {
   "cell_type": "code",
   "execution_count": 22,
   "metadata": {},
   "outputs": [
    {
     "name": "stdout",
     "output_type": "stream",
     "text": [
      "_________________________________________________________________\n",
      "Layer (type)                 Output Shape              Param #   \n",
      "=================================================================\n",
      "conv2d_11 (Conv2D)           (None, 26, 32, 32)        896       \n",
      "_________________________________________________________________\n",
      "max_pooling2d_8 (MaxPooling2 (None, 13, 16, 32)        0         \n",
      "_________________________________________________________________\n",
      "batch_normalization_6 (Batch (None, 13, 16, 32)        128       \n",
      "_________________________________________________________________\n",
      "dropout_1 (Dropout)          (None, 13, 16, 32)        0         \n",
      "_________________________________________________________________\n",
      "conv2d_12 (Conv2D)           (None, 13, 16, 32)        9248      \n",
      "_________________________________________________________________\n",
      "max_pooling2d_9 (MaxPooling2 (None, 6, 8, 32)          0         \n",
      "_________________________________________________________________\n",
      "batch_normalization_7 (Batch (None, 6, 8, 32)          128       \n",
      "_________________________________________________________________\n",
      "dropout_2 (Dropout)          (None, 6, 8, 32)          0         \n",
      "_________________________________________________________________\n",
      "flatten_7 (Flatten)          (None, 1536)              0         \n",
      "_________________________________________________________________\n",
      "dense_7 (Dense)              (None, 2)                 3074      \n",
      "=================================================================\n",
      "Total params: 13,474\n",
      "Trainable params: 13,346\n",
      "Non-trainable params: 128\n",
      "_________________________________________________________________\n"
     ]
    }
   ],
   "source": [
    "def improved_model():\n",
    "    model = Sequential()\n",
    "    model.add(Conv2D(filters=32, kernel_size=(3, 3), activation='relu', strides=1, padding='same', data_format='channels_last', input_shape=(26,32,3)))\n",
    "    model.add(MaxPooling2D(pool_size=(2, 2), strides=2, padding='valid' ))\n",
    "    \n",
    "    model.add(BatchNormalization())\n",
    "    model.add(Dropout(0.35))\n",
    "    \n",
    "    model.add(Conv2D(filters=32, kernel_size=(3, 3), activation='relu', strides=1, padding='same', data_format='channels_last'))\n",
    "    model.add(MaxPooling2D(pool_size=(2, 2), strides=2, padding='valid' ))\n",
    "    \n",
    "    model.add(BatchNormalization())\n",
    "    model.add(Dropout(0.35))\n",
    "    \n",
    "    model.add(Flatten())\n",
    "    model.add(Dense(2, activation='softmax'))\n",
    "\n",
    "    model.compile(optimizer=\"rmsprop\", loss=\"binary_crossentropy\", metrics=[\"accuracy\"])\n",
    "    \n",
    "    return model\n",
    "\n",
    "i_model = improved_model()\n",
    "i_model.summary()"
   ]
  },
  {
   "cell_type": "code",
   "execution_count": 23,
   "metadata": {},
   "outputs": [
    {
     "name": "stdout",
     "output_type": "stream",
     "text": [
      "Train on 1000 samples, validate on 900 samples\n",
      "Epoch 1/50\n",
      " - 3s - loss: 2.5898 - acc: 0.7490 - val_loss: 1.3388 - val_acc: 0.7756\n",
      "Epoch 2/50\n",
      " - 1s - loss: 1.5067 - acc: 0.7460 - val_loss: 1.8779 - val_acc: 0.5767\n",
      "Epoch 3/50\n",
      " - 1s - loss: 0.8156 - acc: 0.7660 - val_loss: 0.8355 - val_acc: 0.7156\n",
      "Epoch 4/50\n",
      " - 1s - loss: 0.6306 - acc: 0.7720 - val_loss: 0.6624 - val_acc: 0.6689\n",
      "Epoch 5/50\n",
      " - 1s - loss: 0.5496 - acc: 0.7760 - val_loss: 2.1289 - val_acc: 0.5167\n",
      "Epoch 6/50\n",
      " - 1s - loss: 0.5040 - acc: 0.8060 - val_loss: 0.8201 - val_acc: 0.6067\n",
      "Epoch 7/50\n",
      " - 1s - loss: 0.4274 - acc: 0.8160 - val_loss: 0.5420 - val_acc: 0.7744\n",
      "Epoch 8/50\n",
      " - 1s - loss: 0.4014 - acc: 0.8250 - val_loss: 0.6038 - val_acc: 0.7644\n",
      "Epoch 9/50\n",
      " - 1s - loss: 0.4053 - acc: 0.8440 - val_loss: 0.5484 - val_acc: 0.7633\n",
      "Epoch 10/50\n",
      " - 1s - loss: 0.3893 - acc: 0.8390 - val_loss: 0.4160 - val_acc: 0.8156\n",
      "Epoch 11/50\n",
      " - 1s - loss: 0.3892 - acc: 0.8460 - val_loss: 0.4227 - val_acc: 0.8300\n",
      "Epoch 12/50\n",
      " - 1s - loss: 0.3839 - acc: 0.8330 - val_loss: 0.4361 - val_acc: 0.8089\n",
      "Epoch 13/50\n",
      " - 1s - loss: 0.3889 - acc: 0.8350 - val_loss: 0.4098 - val_acc: 0.8256\n",
      "Epoch 14/50\n",
      " - 1s - loss: 0.4140 - acc: 0.8310 - val_loss: 0.3949 - val_acc: 0.8311\n",
      "Epoch 15/50\n",
      " - 1s - loss: 0.3644 - acc: 0.8490 - val_loss: 0.3913 - val_acc: 0.8367\n",
      "Epoch 16/50\n",
      " - 1s - loss: 0.3723 - acc: 0.8430 - val_loss: 0.3881 - val_acc: 0.8389\n",
      "Epoch 17/50\n",
      " - 1s - loss: 0.3678 - acc: 0.8320 - val_loss: 0.3874 - val_acc: 0.8389\n",
      "Epoch 18/50\n",
      " - 1s - loss: 0.3632 - acc: 0.8520 - val_loss: 0.3867 - val_acc: 0.8411\n",
      "Epoch 19/50\n",
      " - 1s - loss: 0.3647 - acc: 0.8460 - val_loss: 0.3867 - val_acc: 0.8422\n",
      "Epoch 20/50\n",
      " - 1s - loss: 0.3850 - acc: 0.8490 - val_loss: 0.3866 - val_acc: 0.8444\n",
      "Epoch 21/50\n",
      " - 1s - loss: 0.3624 - acc: 0.8410 - val_loss: 0.3872 - val_acc: 0.8467\n",
      "Epoch 22/50\n",
      " - 1s - loss: 0.3714 - acc: 0.8280 - val_loss: 0.3875 - val_acc: 0.8478\n",
      "Epoch 23/50\n",
      " - 1s - loss: 0.3980 - acc: 0.8320 - val_loss: 0.3875 - val_acc: 0.8467\n",
      "Epoch 24/50\n",
      " - 1s - loss: 0.3787 - acc: 0.8370 - val_loss: 0.3878 - val_acc: 0.8467\n",
      "Epoch 25/50\n",
      " - 1s - loss: 0.3715 - acc: 0.8330 - val_loss: 0.3875 - val_acc: 0.8467\n",
      "Epoch 26/50\n",
      " - 1s - loss: 0.3674 - acc: 0.8410 - val_loss: 0.3878 - val_acc: 0.8456\n",
      "Epoch 27/50\n",
      " - 1s - loss: 0.3550 - acc: 0.8470 - val_loss: 0.3879 - val_acc: 0.8467\n",
      "Epoch 28/50\n",
      " - 1s - loss: 0.3853 - acc: 0.8300 - val_loss: 0.3878 - val_acc: 0.8456\n",
      "Epoch 29/50\n",
      " - 1s - loss: 0.3667 - acc: 0.8430 - val_loss: 0.3878 - val_acc: 0.8456\n",
      "Epoch 30/50\n",
      " - 1s - loss: 0.3548 - acc: 0.8520 - val_loss: 0.3879 - val_acc: 0.8456\n",
      "Epoch 31/50\n",
      " - 1s - loss: 0.3673 - acc: 0.8390 - val_loss: 0.3881 - val_acc: 0.8456\n",
      "Epoch 32/50\n",
      " - 1s - loss: 0.3603 - acc: 0.8450 - val_loss: 0.3879 - val_acc: 0.8456\n",
      "Epoch 33/50\n",
      " - 1s - loss: 0.3732 - acc: 0.8500 - val_loss: 0.3878 - val_acc: 0.8456\n",
      "Epoch 34/50\n",
      " - 1s - loss: 0.3540 - acc: 0.8400 - val_loss: 0.3876 - val_acc: 0.8456\n",
      "Epoch 35/50\n",
      " - 1s - loss: 0.3826 - acc: 0.8340 - val_loss: 0.3881 - val_acc: 0.8456\n",
      "Epoch 36/50\n",
      " - 1s - loss: 0.3725 - acc: 0.8450 - val_loss: 0.3879 - val_acc: 0.8456\n",
      "Epoch 37/50\n",
      " - 1s - loss: 0.3595 - acc: 0.8470 - val_loss: 0.3879 - val_acc: 0.8456\n",
      "Epoch 38/50\n",
      " - 1s - loss: 0.3548 - acc: 0.8400 - val_loss: 0.3880 - val_acc: 0.8456\n",
      "Epoch 39/50\n",
      " - 1s - loss: 0.3864 - acc: 0.8450 - val_loss: 0.3881 - val_acc: 0.8456\n",
      "Epoch 40/50\n",
      " - 1s - loss: 0.3710 - acc: 0.8460 - val_loss: 0.3879 - val_acc: 0.8444\n",
      "Epoch 41/50\n",
      " - 1s - loss: 0.3759 - acc: 0.8380 - val_loss: 0.3881 - val_acc: 0.8456\n",
      "Epoch 42/50\n",
      " - 1s - loss: 0.3442 - acc: 0.8410 - val_loss: 0.3883 - val_acc: 0.8456\n",
      "Epoch 43/50\n",
      " - 1s - loss: 0.3719 - acc: 0.8300 - val_loss: 0.3886 - val_acc: 0.8456\n",
      "Epoch 44/50\n",
      " - 1s - loss: 0.3809 - acc: 0.8360 - val_loss: 0.3885 - val_acc: 0.8456\n",
      "Epoch 45/50\n",
      " - 1s - loss: 0.3755 - acc: 0.8290 - val_loss: 0.3887 - val_acc: 0.8456\n",
      "Epoch 46/50\n",
      " - 1s - loss: 0.3557 - acc: 0.8500 - val_loss: 0.3887 - val_acc: 0.8456\n",
      "Epoch 47/50\n",
      " - 1s - loss: 0.3503 - acc: 0.8400 - val_loss: 0.3884 - val_acc: 0.8456\n",
      "Epoch 48/50\n",
      " - 1s - loss: 0.3416 - acc: 0.8490 - val_loss: 0.3881 - val_acc: 0.8456\n",
      "Epoch 49/50\n",
      " - 1s - loss: 0.3863 - acc: 0.8310 - val_loss: 0.3880 - val_acc: 0.8456\n",
      "Epoch 50/50\n",
      " - 1s - loss: 0.3493 - acc: 0.8380 - val_loss: 0.3879 - val_acc: 0.8456\n"
     ]
    }
   ],
   "source": [
    "i_history = i_model.fit(x_tr, y_tr, validation_data = (x_val, y_val) ,epochs = epochs, verbose=2, callbacks = [reduce_lr], batch_size = batch_size)"
   ]
  },
  {
   "cell_type": "code",
   "execution_count": 31,
   "metadata": {},
   "outputs": [
    {
     "data": {
      "image/png": "[encoded data removed]",
      "text/plain": [
       "<Figure size 432x288 with 1 Axes>"
      ]
     },
     "metadata": {
      "needs_background": "light"
     },
     "output_type": "display_data"
    }
   ],
   "source": [
    "plt.plot(i_history.history['acc'])\n",
    "plt.plot(i_history.history['val_acc'])\n",
    "\n",
    "plt.title('model accuracy')\n",
    "plt.ylabel('accuracy')\n",
    "plt.xlabel('epoch')\n",
    "plt.legend(['training improved',\n",
    "            'validation improved'], loc='lower right')\n",
    "\n",
    "plt.show()"
   ]
  },
  {
   "cell_type": "markdown",
   "metadata": {},
   "source": [
    "# Conclusions from Improved Model\n",
    "\n",
    "We get an overall lower accuracy, however, we get a much better agreement between our training and validation data which tells us we aredoing a better job of not overfitting."
   ]
  },
  {
   "cell_type": "code",
   "execution_count": 39,
   "metadata": {},
   "outputs": [
    {
     "ename": "ValueError",
     "evalue": "Found input variables with inconsistent numbers of samples: [100, 200]",
     "output_type": "error",
     "traceback": [
      "\u001b[0;31m---------------------------------------------------------------------------\u001b[0m",
      "\u001b[0;31mValueError\u001b[0m                                Traceback (most recent call last)",
      "\u001b[0;32m<ipython-input-39-2634bab459c1>\u001b[0m in \u001b[0;36m<module>\u001b[0;34m()\u001b[0m\n\u001b[1;32m      2\u001b[0m \u001b[0;34m\u001b[0m\u001b[0m\n\u001b[1;32m      3\u001b[0m \u001b[0my_pred_keras\u001b[0m \u001b[0;34m=\u001b[0m \u001b[0mi_model\u001b[0m\u001b[0;34m.\u001b[0m\u001b[0mpredict\u001b[0m\u001b[0;34m(\u001b[0m\u001b[0mx_te\u001b[0m\u001b[0;34m)\u001b[0m\u001b[0;34m.\u001b[0m\u001b[0mravel\u001b[0m\u001b[0;34m(\u001b[0m\u001b[0;34m)\u001b[0m\u001b[0;34m\u001b[0m\u001b[0m\n\u001b[0;32m----> 4\u001b[0;31m \u001b[0mfpr_keras\u001b[0m\u001b[0;34m,\u001b[0m \u001b[0mtpr_keras\u001b[0m\u001b[0;34m,\u001b[0m \u001b[0mthresholds_keras\u001b[0m \u001b[0;34m=\u001b[0m \u001b[0mroc_curve\u001b[0m\u001b[0;34m(\u001b[0m\u001b[0my_te\u001b[0m\u001b[0;34m,\u001b[0m \u001b[0my_pred_keras\u001b[0m\u001b[0;34m)\u001b[0m\u001b[0;34m\u001b[0m\u001b[0m\n\u001b[0m\u001b[1;32m      5\u001b[0m \u001b[0;34m\u001b[0m\u001b[0m\n\u001b[1;32m      6\u001b[0m \u001b[0;32mfrom\u001b[0m \u001b[0msklearn\u001b[0m\u001b[0;34m.\u001b[0m\u001b[0mmetrics\u001b[0m \u001b[0;32mimport\u001b[0m \u001b[0mauc\u001b[0m\u001b[0;34m\u001b[0m\u001b[0m\n",
      "\u001b[0;32m/Users/benjaminwarren/anaconda3/envs/py27/lib/python2.7/site-packages/sklearn/metrics/ranking.pyc\u001b[0m in \u001b[0;36mroc_curve\u001b[0;34m(y_true, y_score, pos_label, sample_weight, drop_intermediate)\u001b[0m\n\u001b[1;32m    616\u001b[0m     \"\"\"\n\u001b[1;32m    617\u001b[0m     fps, tps, thresholds = _binary_clf_curve(\n\u001b[0;32m--> 618\u001b[0;31m         y_true, y_score, pos_label=pos_label, sample_weight=sample_weight)\n\u001b[0m\u001b[1;32m    619\u001b[0m \u001b[0;34m\u001b[0m\u001b[0m\n\u001b[1;32m    620\u001b[0m     \u001b[0;31m# Attempt to drop thresholds corresponding to points in between and\u001b[0m\u001b[0;34m\u001b[0m\u001b[0;34m\u001b[0m\u001b[0m\n",
      "\u001b[0;32m/Users/benjaminwarren/anaconda3/envs/py27/lib/python2.7/site-packages/sklearn/metrics/ranking.pyc\u001b[0m in \u001b[0;36m_binary_clf_curve\u001b[0;34m(y_true, y_score, pos_label, sample_weight)\u001b[0m\n\u001b[1;32m    397\u001b[0m         \u001b[0;32mraise\u001b[0m \u001b[0mValueError\u001b[0m\u001b[0;34m(\u001b[0m\u001b[0;34m\"{0} format is not supported\"\u001b[0m\u001b[0;34m.\u001b[0m\u001b[0mformat\u001b[0m\u001b[0;34m(\u001b[0m\u001b[0my_type\u001b[0m\u001b[0;34m)\u001b[0m\u001b[0;34m)\u001b[0m\u001b[0;34m\u001b[0m\u001b[0m\n\u001b[1;32m    398\u001b[0m \u001b[0;34m\u001b[0m\u001b[0m\n\u001b[0;32m--> 399\u001b[0;31m     \u001b[0mcheck_consistent_length\u001b[0m\u001b[0;34m(\u001b[0m\u001b[0my_true\u001b[0m\u001b[0;34m,\u001b[0m \u001b[0my_score\u001b[0m\u001b[0;34m,\u001b[0m \u001b[0msample_weight\u001b[0m\u001b[0;34m)\u001b[0m\u001b[0;34m\u001b[0m\u001b[0m\n\u001b[0m\u001b[1;32m    400\u001b[0m     \u001b[0my_true\u001b[0m \u001b[0;34m=\u001b[0m \u001b[0mcolumn_or_1d\u001b[0m\u001b[0;34m(\u001b[0m\u001b[0my_true\u001b[0m\u001b[0;34m)\u001b[0m\u001b[0;34m\u001b[0m\u001b[0m\n\u001b[1;32m    401\u001b[0m     \u001b[0my_score\u001b[0m \u001b[0;34m=\u001b[0m \u001b[0mcolumn_or_1d\u001b[0m\u001b[0;34m(\u001b[0m\u001b[0my_score\u001b[0m\u001b[0;34m)\u001b[0m\u001b[0;34m\u001b[0m\u001b[0m\n",
      "\u001b[0;32m/Users/benjaminwarren/anaconda3/envs/py27/lib/python2.7/site-packages/sklearn/utils/validation.pyc\u001b[0m in \u001b[0;36mcheck_consistent_length\u001b[0;34m(*arrays)\u001b[0m\n\u001b[1;32m    233\u001b[0m     \u001b[0;32mif\u001b[0m \u001b[0mlen\u001b[0m\u001b[0;34m(\u001b[0m\u001b[0muniques\u001b[0m\u001b[0;34m)\u001b[0m \u001b[0;34m>\u001b[0m \u001b[0;36m1\u001b[0m\u001b[0;34m:\u001b[0m\u001b[0;34m\u001b[0m\u001b[0m\n\u001b[1;32m    234\u001b[0m         raise ValueError(\"Found input variables with inconsistent numbers of\"\n\u001b[0;32m--> 235\u001b[0;31m                          \" samples: %r\" % [int(l) for l in lengths])\n\u001b[0m\u001b[1;32m    236\u001b[0m \u001b[0;34m\u001b[0m\u001b[0m\n\u001b[1;32m    237\u001b[0m \u001b[0;34m\u001b[0m\u001b[0m\n",
      "\u001b[0;31mValueError\u001b[0m: Found input variables with inconsistent numbers of samples: [100, 200]"
     ]
    }
   ],
   "source": [
    "from sklearn.metrics import roc_curve\n",
    "\n",
    "y_pred_keras = i_model.predict(x_te).ravel()\n",
    "fpr_keras, tpr_keras, thresholds_keras = roc_curve(y_te, y_pred_keras)\n",
    "\n",
    "from sklearn.metrics import auc\n",
    "auc_keras = auc(fpr_keras, tpr_keras)\n",
    "\n",
    "plt.figure(1)\n",
    "plt.plot([0, 1], [0, 1], 'k--')\n",
    "plt.plot(fpr_keras, tpr_keras, label='Keras (area = {:.3f})'.format(auc_keras))\n",
    "plt.xlabel('False positive rate')\n",
    "plt.ylabel('True positive rate')\n",
    "plt.title('ROC curve')\n",
    "plt.legend(loc='best')\n",
    "plt.show()"
   ]
  },
  {
   "cell_type": "markdown",
   "metadata": {
    "colab_type": "text",
    "id": "2V2g1EiUcLWj"
   },
   "source": [
    "# Conversion to Tensorflow File\n",
    "\n",
    "We need a .pb file in order to run convert our models using the DNNDK (Deep Neural Network Development Kit)\n",
    "\n",
    "We create a frozen graph and use this to get our model.pb file\n"
   ]
  },
  {
   "cell_type": "code",
   "execution_count": 26,
   "metadata": {},
   "outputs": [],
   "source": [
    "def freeze_session(session, keep_var_names=None, output_names=None, clear_devices=True):\n",
    "    \"\"\"\n",
    "    Freezes the state of a session into a pruned computation graph.\n",
    "\n",
    "    Creates a new computation graph where variable nodes are replaced by\n",
    "    constants taking their current value in the session. The new graph will be\n",
    "    pruned so subgraphs that are not necessary to compute the requested\n",
    "    outputs are removed.\n",
    "    @param session The TensorFlow session to be frozen.\n",
    "    @param keep_var_names A list of variable names that should not be frozen,\n",
    "                          or None to freeze all the variables in the graph.\n",
    "    @param output_names Names of the relevant graph outputs.\n",
    "    @param clear_devices Remove the device directives from the graph for better portability.\n",
    "    @return The frozen graph definition.\n",
    "    \"\"\"\n",
    "    graph = session.graph\n",
    "    with graph.as_default():\n",
    "        freeze_var_names = list(set(v.op.name for v in tf.global_variables()).difference(keep_var_names or []))\n",
    "        output_names = output_names or []\n",
    "        output_names += [v.op.name for v in tf.global_variables()]\n",
    "        input_graph_def = graph.as_graph_def()\n",
    "        if clear_devices:\n",
    "            for node in input_graph_def.node:\n",
    "                if node.op == 'RefSwitch':\n",
    "                    node.op = 'Switch'\n",
    "                    for index in range(len(node.input)):\n",
    "                        if 'moving_' in node.input[index] and \"Switch\" not in node.input[index]:\n",
    "                            node.input[index] = node.input[index] + '/read'\n",
    "                elif node.op == 'AssignSub':\n",
    "                    node.op = 'Sub'\n",
    "                    if 'use_locking' in node.attr: del node.attr['use_locking']\n",
    "                elif node.op == 'AssignAdd':\n",
    "                    node.op = 'Add'\n",
    "                    if 'use_locking' in node.attr: del node.attr['use_locking']\n",
    "        node.device = \"\"\n",
    "        frozen_graph = tf.graph_util.convert_variables_to_constants(\n",
    "            session, input_graph_def, output_names, freeze_var_names)\n",
    "        return frozen_graph"
   ]
  },
  {
   "cell_type": "code",
   "execution_count": 27,
   "metadata": {},
   "outputs": [],
   "source": [
    "from keras import backend as K\n",
    "import tensorflow as tf"
   ]
  },
  {
   "cell_type": "code",
   "execution_count": 28,
   "metadata": {},
   "outputs": [
    {
     "name": "stdout",
     "output_type": "stream",
     "text": [
      "INFO:tensorflow:Froze 217 variables.\n",
      "INFO:tensorflow:Converted 217 variables to const ops.\n"
     ]
    }
   ],
   "source": [
    "frozen_graph = freeze_session(K.get_session(),\n",
    "                              output_names=[out.op.name for out in i_model.outputs])"
   ]
  },
  {
   "cell_type": "code",
   "execution_count": 29,
   "metadata": {},
   "outputs": [
    {
     "data": {
      "text/plain": [
       "'Tensorflow_model/my_model.pb'"
      ]
     },
     "execution_count": 29,
     "metadata": {},
     "output_type": "execute_result"
    }
   ],
   "source": [
    "tf.train.write_graph(frozen_graph, \"Tensorflow_model\", \"my_model.pb\", as_text=False)"
   ]
  },
  {
   "cell_type": "code",
   "execution_count": null,
   "metadata": {},
   "outputs": [],
   "source": []
  },
  {
   "cell_type": "code",
   "execution_count": null,
   "metadata": {},
   "outputs": [],
   "source": []
  },
  {
   "cell_type": "code",
   "execution_count": null,
   "metadata": {},
   "outputs": [],
   "source": []
  },
  {
   "cell_type": "code",
   "execution_count": null,
   "metadata": {},
   "outputs": [],
   "source": []
  }
 ],
 "metadata": {
  "colab": {
   "collapsed_sections": [],
   "name": "JZ0W_vs_ZvvHbb (5).ipynb",
   "provenance": [],
   "version": "0.3.2"
  },
  "kernelspec": {
   "display_name": "Python 2",
   "language": "python",
   "name": "python2"
  },
  "language_info": {
   "codemirror_mode": {
    "name": "ipython",
    "version": 2
   },
   "file_extension": ".py",
   "mimetype": "text/x-python",
   "name": "python",
   "nbconvert_exporter": "python",
   "pygments_lexer": "ipython2",
   "version": "2.7.16"
  }
 },
 "nbformat": 4,
 "nbformat_minor": 1
}
